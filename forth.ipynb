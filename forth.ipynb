{
 "cells": [
  {
   "cell_type": "code",
   "execution_count": 1,
   "id": "f8e8b20f",
   "metadata": {},
   "outputs": [],
   "source": [
    "# webscraping forth\n",
    "# https://www.iesl.forth.gr/"
   ]
  },
  {
   "cell_type": "code",
   "execution_count": 2,
   "id": "30145387",
   "metadata": {},
   "outputs": [],
   "source": [
    "# my environment\n",
    "\n",
    "# academic              *  C:\\ProgramData\\Anaconda3\\envs\\academic"
   ]
  },
  {
   "cell_type": "code",
   "execution_count": 3,
   "id": "d9ff0f2e",
   "metadata": {},
   "outputs": [],
   "source": [
    "import time\n",
    "from time import sleep\n",
    "from tqdm import tqdm\n",
    "\n",
    "\n",
    "#---------Selenium------------\n",
    "\n",
    "from selenium import webdriver\n",
    "from selenium.webdriver.common.keys import Keys\n",
    "from selenium.webdriver.common.by import By\n",
    "from selenium.webdriver.support.ui import WebDriverWait\n",
    "from selenium.webdriver.support import expected_conditions as EC\n",
    "\n",
    "# generate random for time\n",
    "import random\n",
    "\n",
    "# for dates\n",
    "from datetime import datetime, timedelta\n",
    "\n",
    "# regex of course\n",
    "import re\n",
    "\n",
    "# pandas for dataframe\n",
    "import pandas as pd\n",
    "\n",
    "# to create .pkl\n",
    "import joblib\n",
    "\n",
    "# # for read pdf\n",
    "# import pdfplumber\n",
    "\n",
    "# Import date class from datetime module and get  the current date\n",
    "from datetime import date\n",
    "\n",
    "# for create  a new directory\n",
    "import os\n"
   ]
  },
  {
   "cell_type": "code",
   "execution_count": 4,
   "id": "344c9ae1",
   "metadata": {},
   "outputs": [],
   "source": [
    "def opensite(url):\n",
    "    # OPEN SITE\n",
    "\n",
    "    driver = webdriver.Chrome(\"C:\\Program Files (x86)\\chromedriver.exe\")\n",
    "    driver.get(url)\n",
    "\n",
    "    sleep(random.uniform(2, 3))\n",
    "    try:\n",
    "        driver.find_element_by_xpath(\"//*[contains(text(), 'Ok')]\").click()\n",
    "\n",
    "    except:\n",
    "        pass\n",
    "        sleep(random.uniform(0,0.5))\n",
    "        \n",
    "    try:\n",
    "        driver.find_element_by_xpath(\"//*[contains(text(), 'Accept')]\").click()\n",
    "\n",
    "    except:\n",
    "        pass\n",
    "        sleep(random.uniform(0,0.5))\n",
    "        \n",
    "        \n",
    "    \n",
    "    return driver"
   ]
  },
  {
   "cell_type": "code",
   "execution_count": 5,
   "id": "4c7579b0",
   "metadata": {},
   "outputs": [],
   "source": [
    "url = 'https://www.iesl.forth.gr/en/jobs-bids/jobs/job-positions'\n",
    "driver=opensite(url)"
   ]
  },
  {
   "cell_type": "code",
   "execution_count": 6,
   "id": "eb633a8c",
   "metadata": {},
   "outputs": [],
   "source": [
    "# o  pinakas me  DEDOMENA\n",
    "bigtable=driver.find_element_by_xpath(\"/html/body/div[2]/div/div/div[1]/div/div/div[3]\")\n",
    "\n",
    "# To feuture title in dataset\n",
    "Title=bigtable.find_elements_by_xpath(\"//div[@class='col-xs-6']\")\n",
    "Title=Title[1:]\n",
    "\n",
    "# To feuture Position_Type in dataset\n",
    "Position_Type=bigtable.find_elements_by_xpath(\"//div[@class='col-xs-2']\")\n",
    "Position_Type=Position_Type[1:]\n",
    "\n",
    "# To feuture Contact_Person in dataset\n",
    "Contact_Person=bigtable.find_elements_by_xpath(\"//div[@class='col-xs-3']\")\n",
    "Contact_Person=Contact_Person[1:]\n",
    "\n",
    "# To feuture Status in dataset\n",
    "Status=bigtable.find_elements_by_xpath(\"//div[@class='col-xs-1']\")\n",
    "Status=Status[1:]"
   ]
  },
  {
   "cell_type": "code",
   "execution_count": null,
   "id": "05be3296",
   "metadata": {},
   "outputs": [],
   "source": []
  },
  {
   "cell_type": "code",
   "execution_count": 7,
   "id": "35c32522",
   "metadata": {},
   "outputs": [],
   "source": [
    "# create a df\n",
    "cols = ['Title', 'Position_Type', 'Contact_Person', 'Status', 'Link']\n",
    "\n",
    "df = pd.DataFrame(columns=cols)"
   ]
  },
  {
   "cell_type": "code",
   "execution_count": 8,
   "id": "7446866f",
   "metadata": {},
   "outputs": [],
   "source": [
    "for i in range(len(Title)):\n",
    "    \n",
    "    theTitle = Title[i].text\n",
    "    thePosition_Type = Position_Type[i].text\n",
    "    theContact_Person = Contact_Person[i].text\n",
    "    theStatus = Status[i].text\n",
    "    theLink = Title[1].find_element_by_tag_name('a').get_attribute(\"href\")\n",
    "    \n",
    "    \n",
    "    \n",
    "    temp = {\n",
    "        'Title':theTitle,\n",
    "        'Position_Type':thePosition_Type,\n",
    "        'Contact_Person':theContact_Person,\n",
    "        'Status':theStatus,\n",
    "        'Link':theLink,\n",
    "    }\n",
    "    df = df.append(temp, ignore_index=True,)\n",
    "\n"
   ]
  },
  {
   "cell_type": "code",
   "execution_count": 9,
   "id": "dbf42288",
   "metadata": {},
   "outputs": [
    {
     "data": {
      "text/html": [
       "<div>\n",
       "<style scoped>\n",
       "    .dataframe tbody tr th:only-of-type {\n",
       "        vertical-align: middle;\n",
       "    }\n",
       "\n",
       "    .dataframe tbody tr th {\n",
       "        vertical-align: top;\n",
       "    }\n",
       "\n",
       "    .dataframe thead th {\n",
       "        text-align: right;\n",
       "    }\n",
       "</style>\n",
       "<table border=\"1\" class=\"dataframe\">\n",
       "  <thead>\n",
       "    <tr style=\"text-align: right;\">\n",
       "      <th></th>\n",
       "      <th>Title</th>\n",
       "      <th>Position_Type</th>\n",
       "      <th>Contact_Person</th>\n",
       "      <th>Status</th>\n",
       "      <th>Link</th>\n",
       "    </tr>\n",
       "  </thead>\n",
       "  <tbody>\n",
       "    <tr>\n",
       "      <th>0</th>\n",
       "      <td>One (1) post-doc position in the project IPERI...</td>\n",
       "      <td>Post Doctoral fellow appointment</td>\n",
       "      <td>Prof. Anglos Demetrios</td>\n",
       "      <td>Open</td>\n",
       "      <td>https://www.iesl.forth.gr/en/about/job-positio...</td>\n",
       "    </tr>\n",
       "    <tr>\n",
       "      <th>1</th>\n",
       "      <td>Μία (1) θέση υποψήφιου διδάκτορα στο πρόγραμμα...</td>\n",
       "      <td>PhD candidate position</td>\n",
       "      <td>Dr. Kenanakis George</td>\n",
       "      <td>Open</td>\n",
       "      <td>https://www.iesl.forth.gr/en/about/job-positio...</td>\n",
       "    </tr>\n",
       "    <tr>\n",
       "      <th>2</th>\n",
       "      <td>Two (2) master student positions in the projec...</td>\n",
       "      <td>M.Sc. Student Position</td>\n",
       "      <td>Dr. Deligeorgis George</td>\n",
       "      <td>Open</td>\n",
       "      <td>https://www.iesl.forth.gr/en/about/job-positio...</td>\n",
       "    </tr>\n",
       "    <tr>\n",
       "      <th>3</th>\n",
       "      <td>One (1) PhD student position in the project Bi...</td>\n",
       "      <td>PhD candidate position</td>\n",
       "      <td>Dr. Stratakis Emmanuel</td>\n",
       "      <td>Open</td>\n",
       "      <td>https://www.iesl.forth.gr/en/about/job-positio...</td>\n",
       "    </tr>\n",
       "    <tr>\n",
       "      <th>4</th>\n",
       "      <td>One (1) post-doc position in the project Wavelens</td>\n",
       "      <td>Post Doctoral fellow appointment</td>\n",
       "      <td>Dr. Zacharakis Giannis</td>\n",
       "      <td>Open</td>\n",
       "      <td>https://www.iesl.forth.gr/en/about/job-positio...</td>\n",
       "    </tr>\n",
       "  </tbody>\n",
       "</table>\n",
       "</div>"
      ],
      "text/plain": [
       "                                               Title  \\\n",
       "0  One (1) post-doc position in the project IPERI...   \n",
       "1  Μία (1) θέση υποψήφιου διδάκτορα στο πρόγραμμα...   \n",
       "2  Two (2) master student positions in the projec...   \n",
       "3  One (1) PhD student position in the project Bi...   \n",
       "4  One (1) post-doc position in the project Wavelens   \n",
       "\n",
       "                      Position_Type          Contact_Person Status  \\\n",
       "0  Post Doctoral fellow appointment  Prof. Anglos Demetrios   Open   \n",
       "1            PhD candidate position    Dr. Kenanakis George   Open   \n",
       "2            M.Sc. Student Position  Dr. Deligeorgis George   Open   \n",
       "3            PhD candidate position  Dr. Stratakis Emmanuel   Open   \n",
       "4  Post Doctoral fellow appointment  Dr. Zacharakis Giannis   Open   \n",
       "\n",
       "                                                Link  \n",
       "0  https://www.iesl.forth.gr/en/about/job-positio...  \n",
       "1  https://www.iesl.forth.gr/en/about/job-positio...  \n",
       "2  https://www.iesl.forth.gr/en/about/job-positio...  \n",
       "3  https://www.iesl.forth.gr/en/about/job-positio...  \n",
       "4  https://www.iesl.forth.gr/en/about/job-positio...  "
      ]
     },
     "execution_count": 9,
     "metadata": {},
     "output_type": "execute_result"
    }
   ],
   "source": [
    "df"
   ]
  },
  {
   "cell_type": "code",
   "execution_count": 10,
   "id": "9e34bcd3",
   "metadata": {},
   "outputs": [
    {
     "data": {
      "text/plain": [
       "['..\\\\..\\\\Data\\\\forth.pkl']"
      ]
     },
     "execution_count": 10,
     "metadata": {},
     "output_type": "execute_result"
    }
   ],
   "source": [
    "# #saving python object as pkl\n",
    "\n",
    "# joblib.dump(df, r\"..\\..\\Data\\forth.pkl\")"
   ]
  },
  {
   "cell_type": "code",
   "execution_count": null,
   "id": "68c1c5cc",
   "metadata": {},
   "outputs": [],
   "source": [
    "# # saving python object as pkl\n",
    "# nameofpkl='hmmy Εθνικό Μετσόβιο Πολυτεχνείο Προκηρύξεις'\n",
    "# joblib.dump(df, r\"..\\..\\data\\{}.pkl\".format(nameofpkl))\n",
    "\n",
    "# Returns the current local date\n",
    "today = date.today()\n",
    "\n",
    "# ----------create new directory--------------\n",
    "\n",
    "path = r\"..\\data\\Forth\\{}\".format(today)\n",
    "\n",
    "# Check whether the specified path exists or not\n",
    "isExist = os.path.exists(path)\n",
    "\n",
    "if not isExist:\n",
    "\n",
    "    # Create a new directory because it does not exist \n",
    "    os.makedirs(path)\n",
    "    print(\"The new directory is created!\")\n",
    "else:\n",
    "    pass\n",
    "# ---------------------------------------------\n",
    "\n",
    "\n",
    "# saving python object as pkl\n",
    "# save the pkl  ana perioxi\n",
    "NAMEFOLDER='forth'\n",
    "joblib.dump(df, r\"..\\data\\Forth\\{}\\{}.pkl\".format(today,NAMEFOLDER))\n",
    "\n"
   ]
  }
 ],
 "metadata": {
  "kernelspec": {
   "display_name": "Python 3 (ipykernel)",
   "language": "python",
   "name": "python3"
  },
  "language_info": {
   "codemirror_mode": {
    "name": "ipython",
    "version": 3
   },
   "file_extension": ".py",
   "mimetype": "text/x-python",
   "name": "python",
   "nbconvert_exporter": "python",
   "pygments_lexer": "ipython3",
   "version": "3.8.12"
  }
 },
 "nbformat": 4,
 "nbformat_minor": 5
}
